{
 "cells": [
  {
   "cell_type": "code",
   "execution_count": 2,
   "metadata": {},
   "outputs": [],
   "source": [
    "import pandas as pd"
   ]
  },
  {
   "cell_type": "code",
   "execution_count": 3,
   "metadata": {},
   "outputs": [
    {
     "name": "stdout",
     "output_type": "stream",
     "text": [
      "(422419, 8)\n",
      "['ID', 'TITLE', 'URL', 'PUBLISHER', 'CATEGORY', 'STORY', 'HOSTNAME', 'TIMESTAMP']\n"
     ]
    }
   ],
   "source": [
    "news_agg = pd.read_csv(\"data/kaggle/uci-news-aggregator.csv\")\n",
    "print(news_agg.shape)\n",
    "print(news_agg.columns.tolist())"
   ]
  },
  {
   "cell_type": "code",
   "execution_count": 4,
   "metadata": {},
   "outputs": [
    {
     "name": "stdout",
     "output_type": "stream",
     "text": [
      "(32000, 2)\n",
      "['headline', 'clickbait']\n"
     ]
    }
   ],
   "source": [
    "clickbait = pd.read_csv(\"data/clickbait/clickbait_data.csv\")\n",
    "print(clickbait.shape)\n",
    "print(clickbait.columns.tolist())"
   ]
  },
  {
   "cell_type": "code",
   "execution_count": 6,
   "metadata": {},
   "outputs": [
    {
     "name": "stdout",
     "output_type": "stream",
     "text": [
      "(10239, 14)\n",
      "['2635.json', 'false', 'Says the Annies List political group supports third-trimester abortions on demand.', 'abortion', 'dwayne-bohac', 'State representative', 'Texas', 'republican', '0', '1', '0.1', '0.2', '0.3', 'a mailer']\n"
     ]
    }
   ],
   "source": [
    "liar_train = pd.read_csv(\"data/liar/train.tsv\", sep=\"\\t\")\n",
    "print(liar_train.shape)\n",
    "print(liar_train.columns.tolist())"
   ]
  },
  {
   "cell_type": "code",
   "execution_count": 7,
   "metadata": {},
   "outputs": [
    {
     "name": "stdout",
     "output_type": "stream",
     "text": [
      "(995041, 12)\n",
      "['url', 'archive', 'title', 'date', 'text', 'summary', 'compression', 'coverage', 'density', 'compression_bin', 'coverage_bin', 'density_bin']\n"
     ]
    }
   ],
   "source": [
    "newsroom_train = pd.read_json(\"data/newsroom/train.jsonl\", lines=True)\n",
    "print(newsroom_train.shape)\n",
    "print(newsroom_train.columns.tolist())"
   ]
  },
  {
   "cell_type": "code",
   "execution_count": null,
   "metadata": {},
   "outputs": [],
   "source": [
    "def stats(df, text_column):\n",
    "    text = df[text_column].astype(str).dropna()\n",
    "    avg_word_count = text.apply(lambda x: len(x.split())).mean()\n",
    "    vocab = set(\" \".join(text.tolist()).split())\n",
    "    vocab_size = len(vocab)\n",
    "    duplicate_count = df[text_column].duplicated().sum()\n",
    "    \n",
    "    return {\n",
    "        \"No of Variables\": df.shape[1],\n",
    "        \"Document Count\": df.shape[0],\n",
    "        \"Avg Word Count\": int(avg_word_count),\n",
    "        \"Vocab Size\": vocab_size,\n",
    "        \"Dup Count\": duplicate_count\n",
    "    }\n"
   ]
  },
  {
   "cell_type": "code",
   "execution_count": null,
   "metadata": {},
   "outputs": [
    {
     "data": {
      "text/plain": [
       "{'No of Variables': 8,\n",
       " 'Document Count': 422419,\n",
       " 'Avg Word Count': 9,\n",
       " 'Vocab Size': 176490,\n",
       " 'Dup Count': 15964}"
      ]
     },
     "execution_count": 45,
     "metadata": {},
     "output_type": "execute_result"
    }
   ],
   "source": [
    "stats(pd.read_csv(\"data/kaggle/uci-news-aggregator.csv\"), text_column='TITLE')"
   ]
  },
  {
   "cell_type": "code",
   "execution_count": null,
   "metadata": {},
   "outputs": [
    {
     "data": {
      "text/plain": [
       "{'No of Variables': 2,\n",
       " 'Document Count': 32000,\n",
       " 'Avg Word Count': 9,\n",
       " 'Vocab Size': 35789,\n",
       " 'Dup Count': 0}"
      ]
     },
     "execution_count": 46,
     "metadata": {},
     "output_type": "execute_result"
    }
   ],
   "source": [
    "stats(pd.read_csv(\"data/clickbait/clickbait_data.csv\"), text_column='headline')"
   ]
  },
  {
   "cell_type": "code",
   "execution_count": null,
   "metadata": {},
   "outputs": [
    {
     "data": {
      "text/plain": [
       "{'No of Variables': 14,\n",
       " 'Document Count': 10239,\n",
       " 'Avg Word Count': 18,\n",
       " 'Vocab Size': 21676,\n",
       " 'Dup Count': 17}"
      ]
     },
     "execution_count": 47,
     "metadata": {},
     "output_type": "execute_result"
    }
   ],
   "source": [
    "stats(pd.read_csv(\"data/liar/train.tsv\", sep=\"\\t\"), text_column=liar.columns[2])"
   ]
  },
  {
   "cell_type": "code",
   "execution_count": null,
   "metadata": {},
   "outputs": [
    {
     "data": {
      "text/plain": [
       "{'No of Variables': 12,\n",
       " 'Document Count': 100000,\n",
       " 'Avg Word Count': 557,\n",
       " 'Vocab Size': 1386391,\n",
       " 'Dup Count': 22}"
      ]
     },
     "execution_count": 51,
     "metadata": {},
     "output_type": "execute_result"
    }
   ],
   "source": [
    "stats(pd.read_json(\"data/newsroom/train.jsonl\", lines=True, nrows=100000), text_column='text')"
   ]
  },
  {
   "cell_type": "code",
   "execution_count": 55,
   "metadata": {},
   "outputs": [
    {
     "name": "stdout",
     "output_type": "stream",
     "text": [
      "Document Count Newsroom: 995041\n"
     ]
    }
   ],
   "source": [
    "with open(\"data/newsroom/train.jsonl\", \"r\", encoding=\"utf-8\") as f:\n",
    "    print(f\"Document Count Newsroom: {sum(1 for _ in f)}\")"
   ]
  }
 ],
 "metadata": {
  "kernelspec": {
   "display_name": "Python 3",
   "language": "python",
   "name": "python3"
  },
  "language_info": {
   "codemirror_mode": {
    "name": "ipython",
    "version": 3
   },
   "file_extension": ".py",
   "mimetype": "text/x-python",
   "name": "python",
   "nbconvert_exporter": "python",
   "pygments_lexer": "ipython3",
   "version": "3.12.0"
  }
 },
 "nbformat": 4,
 "nbformat_minor": 2
}
